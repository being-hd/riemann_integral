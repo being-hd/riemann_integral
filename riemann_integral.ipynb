{
 "cells": [
  {
   "cell_type": "code",
   "execution_count": 1,
   "id": "e814d0db",
   "metadata": {},
   "outputs": [],
   "source": [
    "import sympy as sp\n",
    "\n",
    "class riemann_integral:\n",
    "    \n",
    "    def __init__(self,f,a = 0, b = 0):\n",
    "        self.x = sp.symbols('x')\n",
    "        self.fx = sp.simplify(f)\n",
    "        self.lower_lim = a\n",
    "        self.upper_lim = b\n",
    "        self.n = 500\n",
    "        self.dx = (self.upper_lim - self.lower_lim)/self.n\n",
    "\n",
    "    # Compute supremum of f(x) in each subinterval\n",
    "    def supremum(self,c,d):\n",
    "        n = 10\n",
    "        partition = [c + i * (d - c) / n for i in range(n+1)]\n",
    "        return max([self.fx.subs(self.x,ele) for ele in partition])\n",
    "\n",
    "    # Compute infimum of f(x) in each subinterval\n",
    "    def infimum(self,c,d):\n",
    "        n = 10\n",
    "        partition = [c + i * (d - c) / n for i in range(n+1)]\n",
    "        return min([self.fx.subs(self.x,ele) for ele in partition])\n",
    "\n",
    "    # Compute upper sum\n",
    "    def upper_sum(self):\n",
    "        lt = []\n",
    "        for i in range(self.n):\n",
    "            lt += [self.dx*self.supremum(self.lower_lim + (i*self.dx),self.lower_lim + (i+1)*self.dx)]\n",
    "        return sum(lt)\n",
    "\n",
    "    # Compute lower sum\n",
    "    def lower_sum(self):\n",
    "        lt = []\n",
    "        for i in range(self.n):\n",
    "            lt += [self.dx*self.infimum(self.lower_lim + (i*self.dx),self.lower_lim + (i+1)*self.dx)]\n",
    "        return sum(lt)\n",
    "\n",
    "    # Compute integral value\n",
    "    def integral_value(self):\n",
    "        if abs(self.upper_sum() - self.lower_sum()) > 1:\n",
    "            return \"Integral {} does not converge in ({},{})\".format(self.fx,self.lower_lim,self.upper_lim)\n",
    "        print(f'Upper sum U(f,{self.n}) = {self.upper_sum():1.6f}')\n",
    "        print(f'Lower sum L(f,{self.n}) = {self.lower_sum():1.6f}')\n",
    "        print(f'Integral is: {(self.upper_sum() + self.lower_sum())/2:1.6f}')"
   ]
  },
  {
   "cell_type": "code",
   "execution_count": null,
   "id": "e8270339",
   "metadata": {},
   "outputs": [],
   "source": []
  }
 ],
 "metadata": {
  "kernelspec": {
   "display_name": "Python 3 (ipykernel)",
   "language": "python",
   "name": "python3"
  },
  "language_info": {
   "codemirror_mode": {
    "name": "ipython",
    "version": 3
   },
   "file_extension": ".py",
   "mimetype": "text/x-python",
   "name": "python",
   "nbconvert_exporter": "python",
   "pygments_lexer": "ipython3",
   "version": "3.9.13"
  }
 },
 "nbformat": 4,
 "nbformat_minor": 5
}
